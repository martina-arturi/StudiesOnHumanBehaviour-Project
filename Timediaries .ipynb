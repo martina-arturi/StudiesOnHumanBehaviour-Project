{
 "cells": [
  {
   "cell_type": "code",
   "execution_count": 2,
   "id": "a5b3956d",
   "metadata": {},
   "outputs": [
    {
     "data": {
      "text/html": [
       "<div>\n",
       "<style scoped>\n",
       "    .dataframe tbody tr th:only-of-type {\n",
       "        vertical-align: middle;\n",
       "    }\n",
       "\n",
       "    .dataframe tbody tr th {\n",
       "        vertical-align: top;\n",
       "    }\n",
       "\n",
       "    .dataframe thead th {\n",
       "        text-align: right;\n",
       "    }\n",
       "</style>\n",
       "<table border=\"1\" class=\"dataframe\">\n",
       "  <thead>\n",
       "    <tr style=\"text-align: right;\">\n",
       "      <th></th>\n",
       "      <th>datetime</th>\n",
       "      <th>time</th>\n",
       "      <th>weekday</th>\n",
       "      <th>what</th>\n",
       "      <th>where</th>\n",
       "      <th>with_whom</th>\n",
       "      <th>mood</th>\n",
       "    </tr>\n",
       "  </thead>\n",
       "  <tbody>\n",
       "    <tr>\n",
       "      <th>0</th>\n",
       "      <td>2022-10-25 13:30:00</td>\n",
       "      <td>13:30:00</td>\n",
       "      <td>Tuesday</td>\n",
       "      <td>Personal care</td>\n",
       "      <td>Home apartment /room</td>\n",
       "      <td>Alone</td>\n",
       "      <td>😁</td>\n",
       "    </tr>\n",
       "    <tr>\n",
       "      <th>1</th>\n",
       "      <td>2022-10-25 13:00:00</td>\n",
       "      <td>13:00:00</td>\n",
       "      <td>Tuesday</td>\n",
       "      <td>Personal care</td>\n",
       "      <td>Home apartment /room</td>\n",
       "      <td>Alone</td>\n",
       "      <td>😁</td>\n",
       "    </tr>\n",
       "    <tr>\n",
       "      <th>2</th>\n",
       "      <td>2022-10-25 12:30:00</td>\n",
       "      <td>12:30:00</td>\n",
       "      <td>Tuesday</td>\n",
       "      <td>Travelling</td>\n",
       "      <td>Changing locality</td>\n",
       "      <td>By bus/tram</td>\n",
       "      <td>NaN</td>\n",
       "    </tr>\n",
       "    <tr>\n",
       "      <th>3</th>\n",
       "      <td>2022-10-25 12:00:00</td>\n",
       "      <td>12:00:00</td>\n",
       "      <td>Tuesday</td>\n",
       "      <td>Other</td>\n",
       "      <td>Other university place</td>\n",
       "      <td>Alone</td>\n",
       "      <td>😁</td>\n",
       "    </tr>\n",
       "    <tr>\n",
       "      <th>4</th>\n",
       "      <td>2022-10-25 11:30:00</td>\n",
       "      <td>11:30:00</td>\n",
       "      <td>Tuesday</td>\n",
       "      <td>Other</td>\n",
       "      <td>Other university place</td>\n",
       "      <td>Alone</td>\n",
       "      <td>😁</td>\n",
       "    </tr>\n",
       "    <tr>\n",
       "      <th>...</th>\n",
       "      <td>...</td>\n",
       "      <td>...</td>\n",
       "      <td>...</td>\n",
       "      <td>...</td>\n",
       "      <td>...</td>\n",
       "      <td>...</td>\n",
       "      <td>...</td>\n",
       "    </tr>\n",
       "    <tr>\n",
       "      <th>713</th>\n",
       "      <td>2022-10-10 11:30:00</td>\n",
       "      <td>11:30:00</td>\n",
       "      <td>Monday</td>\n",
       "      <td>Cooking, food preparation &amp; management</td>\n",
       "      <td>Home apartment /room</td>\n",
       "      <td>Roommate(s)</td>\n",
       "      <td>🙂</td>\n",
       "    </tr>\n",
       "    <tr>\n",
       "      <th>714</th>\n",
       "      <td>2022-10-10 11:00:00</td>\n",
       "      <td>11:00:00</td>\n",
       "      <td>Monday</td>\n",
       "      <td>Cooking, food preparation &amp; management</td>\n",
       "      <td>Home apartment /room</td>\n",
       "      <td>Roommate(s)</td>\n",
       "      <td>😁</td>\n",
       "    </tr>\n",
       "    <tr>\n",
       "      <th>715</th>\n",
       "      <td>2022-10-10 10:30:00</td>\n",
       "      <td>10:30:00</td>\n",
       "      <td>Monday</td>\n",
       "      <td>Cooking, food preparation &amp; management</td>\n",
       "      <td>Home apartment /room</td>\n",
       "      <td>Roommate(s)</td>\n",
       "      <td>😁</td>\n",
       "    </tr>\n",
       "    <tr>\n",
       "      <th>716</th>\n",
       "      <td>2022-10-10 10:00:00</td>\n",
       "      <td>10:00:00</td>\n",
       "      <td>Monday</td>\n",
       "      <td>Travelling</td>\n",
       "      <td>Study</td>\n",
       "      <td>By bus/tram</td>\n",
       "      <td>NaN</td>\n",
       "    </tr>\n",
       "    <tr>\n",
       "      <th>717</th>\n",
       "      <td>2022-10-10 09:30:00</td>\n",
       "      <td>09:30:00</td>\n",
       "      <td>Monday</td>\n",
       "      <td>Travelling</td>\n",
       "      <td>Study</td>\n",
       "      <td>By train</td>\n",
       "      <td>NaN</td>\n",
       "    </tr>\n",
       "  </tbody>\n",
       "</table>\n",
       "<p>718 rows × 7 columns</p>\n",
       "</div>"
      ],
      "text/plain": [
       "                datetime      time  weekday  \\\n",
       "0    2022-10-25 13:30:00  13:30:00  Tuesday   \n",
       "1    2022-10-25 13:00:00  13:00:00  Tuesday   \n",
       "2    2022-10-25 12:30:00  12:30:00  Tuesday   \n",
       "3    2022-10-25 12:00:00  12:00:00  Tuesday   \n",
       "4    2022-10-25 11:30:00  11:30:00  Tuesday   \n",
       "..                   ...       ...      ...   \n",
       "713  2022-10-10 11:30:00  11:30:00   Monday   \n",
       "714  2022-10-10 11:00:00  11:00:00   Monday   \n",
       "715  2022-10-10 10:30:00  10:30:00   Monday   \n",
       "716  2022-10-10 10:00:00  10:00:00   Monday   \n",
       "717  2022-10-10 09:30:00  09:30:00   Monday   \n",
       "\n",
       "                                       what                   where  \\\n",
       "0                             Personal care    Home apartment /room   \n",
       "1                             Personal care    Home apartment /room   \n",
       "2                                Travelling       Changing locality   \n",
       "3                                     Other  Other university place   \n",
       "4                                     Other  Other university place   \n",
       "..                                      ...                     ...   \n",
       "713  Cooking, food preparation & management    Home apartment /room   \n",
       "714  Cooking, food preparation & management    Home apartment /room   \n",
       "715  Cooking, food preparation & management    Home apartment /room   \n",
       "716                              Travelling                   Study   \n",
       "717                              Travelling                   Study   \n",
       "\n",
       "       with_whom mood  \n",
       "0          Alone    😁  \n",
       "1          Alone    😁  \n",
       "2    By bus/tram  NaN  \n",
       "3          Alone    😁  \n",
       "4          Alone    😁  \n",
       "..           ...  ...  \n",
       "713  Roommate(s)    🙂  \n",
       "714  Roommate(s)    😁  \n",
       "715  Roommate(s)    😁  \n",
       "716  By bus/tram  NaN  \n",
       "717     By train  NaN  \n",
       "\n",
       "[718 rows x 7 columns]"
      ]
     },
     "execution_count": 2,
     "metadata": {},
     "output_type": "execute_result"
    }
   ],
   "source": [
    "import pandas as pd\n",
    "answers = pd.read_csv('activities_timediaries.csv')\n",
    "answers"
   ]
  },
  {
   "cell_type": "code",
   "execution_count": 6,
   "id": "80c375bd",
   "metadata": {},
   "outputs": [
    {
     "data": {
      "text/plain": [
       "Sleeping                                               95\n",
       "Personal care                                          92\n",
       "Travelling                                             84\n",
       "Social media (Facebook Instagram etc.)                 74\n",
       "Walking                                                48\n",
       "Study/work group                                       40\n",
       "Rest/nap                                               39\n",
       "Social life                                            37\n",
       "Lecture/seminar/conference/university meeting          36\n",
       "Household and family care                              34\n",
       "Cooking, food preparation & management                 31\n",
       "Watching TV, video, YouTube, etc.                      29\n",
       "Did not do anything special                            26\n",
       "Phone/Video calling                                    16\n",
       "Break                                                  14\n",
       "Other                                                   7\n",
       "Reading                                                 7\n",
       "Grocery Shopping                                        3\n",
       "Happy Hour/Drinking/Party                               3\n",
       "Surfed or seeking, reading information via Internet     2\n",
       "Chat, sending e-mail                                    1\n",
       "Name: what, dtype: int64"
      ]
     },
     "execution_count": 6,
     "metadata": {},
     "output_type": "execute_result"
    }
   ],
   "source": []
  },
  {
   "cell_type": "code",
   "execution_count": 45,
   "id": "7ccd974b",
   "metadata": {},
   "outputs": [
    {
     "data": {
      "text/plain": [
       "<AxesSubplot:>"
      ]
     },
     "execution_count": 45,
     "metadata": {},
     "output_type": "execute_result"
    },
    {
     "data": {
      "image/png": "[encoded data removed]",
      "text/plain": [
       "<Figure size 432x288 with 1 Axes>"
      ]
     },
     "metadata": {
      "needs_background": "light"
     },
     "output_type": "display_data"
    }
   ],
   "source": [
    "answers['what'].value_counts().plot(kind = 'bar')"
   ]
  },
  {
   "cell_type": "code",
   "execution_count": 13,
   "id": "e8c3615b",
   "metadata": {},
   "outputs": [],
   "source": [
    "df = answers"
   ]
  },
  {
   "cell_type": "code",
   "execution_count": 14,
   "id": "a85b8f64",
   "metadata": {},
   "outputs": [],
   "source": [
    "df = df.replace({'what' : {'Personal care' : 'Personal care', \n",
    "                      'Travelling' : 'Commuting', \n",
    "                      'Social media (Facebook Instagram etc.)': 'Social media',\n",
    "                      'Walking': 'Commuting', \n",
    "                      'Study/work group': 'Study', \n",
    "                      'Rest/nap': 'Sleeping',\n",
    "                      'Social life': 'Social life', \n",
    "                      'Lecture/seminar/conference/university meeting': 'Study',\n",
    "                      'Household and family care': 'Chores',\n",
    "                      'Cooking, food preparation & management': 'Chores',\n",
    "                      'Watching TV, video, YouTube, etc.': 'Social media', \n",
    "                      'Did not do anything special': 'Rest',\n",
    "                      'Phone/Video calling': 'Phone time',\n",
    "                      'Break': 'Rest',\n",
    "                      'Other': 'Rest',\n",
    "                      'Reading': 'Rest', \n",
    "                      'Grocery Shopping': 'Chores', \n",
    "                      'Happy Hour/Drinking/Party': 'Social life',\n",
    "                      'Surfed or seeking, reading information via Internet': 'Phone time',\n",
    "                      'Chat, sending e-mail': 'Phone time'}})"
   ]
  },
  {
   "cell_type": "code",
   "execution_count": 35,
   "id": "b64f78f0",
   "metadata": {},
   "outputs": [
    {
     "data": {
      "text/plain": [
       "<AxesSubplot:>"
      ]
     },
     "execution_count": 35,
     "metadata": {},
     "output_type": "execute_result"
    },
    {
     "data": {
      "image/png": "[encoded data removed]",
      "text/plain": [
       "<Figure size 432x288 with 1 Axes>"
      ]
     },
     "metadata": {
      "needs_background": "light"
     },
     "output_type": "display_data"
    }
   ],
   "source": [
    "df['what'].value_counts().plot(kind='bar')"
   ]
  },
  {
   "cell_type": "code",
   "execution_count": 36,
   "id": "6385fbd7",
   "metadata": {},
   "outputs": [
    {
     "data": {
      "text/plain": [
       "Roommate(s)     18\n",
       "Friend(s)       16\n",
       "Classmate(s)     6\n",
       "Name: with_whom, dtype: int64"
      ]
     },
     "execution_count": 36,
     "metadata": {},
     "output_type": "execute_result"
    }
   ],
   "source": [
    "df.loc[df['what'] == 'Social life']['with_whom'].value_counts()"
   ]
  },
  {
   "cell_type": "code",
   "execution_count": 38,
   "id": "cfd3c5f4",
   "metadata": {},
   "outputs": [
    {
     "data": {
      "text/plain": [
       "Alone          99\n",
       "Roommate(s)     4\n",
       "Name: with_whom, dtype: int64"
      ]
     },
     "execution_count": 38,
     "metadata": {},
     "output_type": "execute_result"
    }
   ],
   "source": [
    "df.loc[df['what'] == 'Social media']['with_whom'].value_counts()"
   ]
  },
  {
   "cell_type": "code",
   "execution_count": 39,
   "id": "b7b5a970",
   "metadata": {},
   "outputs": [
    {
     "data": {
      "text/plain": [
       "Alone           35\n",
       "Classmate(s)    32\n",
       "Friend(s)        8\n",
       "Roommate(s)      1\n",
       "Name: with_whom, dtype: int64"
      ]
     },
     "execution_count": 39,
     "metadata": {},
     "output_type": "execute_result"
    }
   ],
   "source": [
    "df.loc[df['what'] == 'Study']['with_whom'].value_counts()"
   ]
  },
  {
   "cell_type": "code",
   "execution_count": 40,
   "id": "dda4f4fb",
   "metadata": {},
   "outputs": [
    {
     "data": {
      "text/plain": [
       "Alone          24\n",
       "Roommate(s)    22\n",
       "Friend(s)       8\n",
       "Name: with_whom, dtype: int64"
      ]
     },
     "execution_count": 40,
     "metadata": {},
     "output_type": "execute_result"
    }
   ],
   "source": [
    "df.loc[df['what'] == 'Rest']['with_whom'].value_counts()"
   ]
  },
  {
   "cell_type": "code",
   "execution_count": 41,
   "id": "d3e13986",
   "metadata": {},
   "outputs": [
    {
     "data": {
      "text/plain": [
       "Relative(s)    9\n",
       "Alone          5\n",
       "Partner        5\n",
       "Name: with_whom, dtype: int64"
      ]
     },
     "execution_count": 41,
     "metadata": {},
     "output_type": "execute_result"
    }
   ],
   "source": [
    "df.loc[df['what'] == 'Phone time']['with_whom'].value_counts()"
   ]
  },
  {
   "cell_type": "code",
   "execution_count": 42,
   "id": "c253a8ea",
   "metadata": {},
   "outputs": [
    {
     "data": {
      "text/plain": [
       "Alone        91\n",
       "Friend(s)     1\n",
       "Name: with_whom, dtype: int64"
      ]
     },
     "execution_count": 42,
     "metadata": {},
     "output_type": "execute_result"
    }
   ],
   "source": [
    "df.loc[df['what'] == 'Personal care']['with_whom'].value_counts()"
   ]
  },
  {
   "cell_type": "code",
   "execution_count": 46,
   "id": "05e9ae0c",
   "metadata": {},
   "outputs": [
    {
     "data": {
      "text/plain": [
       "Home apartment /room                    85\n",
       "Gym, swimming pool, Sports centre...     7\n",
       "Name: where, dtype: int64"
      ]
     },
     "execution_count": 46,
     "metadata": {},
     "output_type": "execute_result"
    }
   ],
   "source": [
    "df.loc[df['what'] == 'Personal care']['where'].value_counts()"
   ]
  },
  {
   "cell_type": "code",
   "execution_count": 47,
   "id": "53b780ed",
   "metadata": {},
   "outputs": [
    {
     "data": {
      "text/plain": [
       "Home apartment /room    19\n",
       "Name: where, dtype: int64"
      ]
     },
     "execution_count": 47,
     "metadata": {},
     "output_type": "execute_result"
    }
   ],
   "source": [
    "df.loc[df['what'] == 'Phone time']['where'].value_counts()"
   ]
  },
  {
   "cell_type": "code",
   "execution_count": 48,
   "id": "ab21d18e",
   "metadata": {},
   "outputs": [
    {
     "data": {
      "text/plain": [
       "Home apartment /room               41\n",
       "Other university place              6\n",
       "Café, pub, bar                      6\n",
       "Countryside/mountain/hill/beach     1\n",
       "Name: where, dtype: int64"
      ]
     },
     "execution_count": 48,
     "metadata": {},
     "output_type": "execute_result"
    }
   ],
   "source": [
    "df.loc[df['what'] == 'Rest']['where'].value_counts()"
   ]
  },
  {
   "cell_type": "code",
   "execution_count": 49,
   "id": "0114fa72",
   "metadata": {},
   "outputs": [
    {
     "data": {
      "text/plain": [
       "Classroom / Study hall         39\n",
       "Home apartment /room           30\n",
       "University Library              6\n",
       "Home garden/patio/courtyard     1\n",
       "Name: where, dtype: int64"
      ]
     },
     "execution_count": 49,
     "metadata": {},
     "output_type": "execute_result"
    }
   ],
   "source": [
    "df.loc[df['what'] == 'Study']['where'].value_counts()"
   ]
  },
  {
   "cell_type": "code",
   "execution_count": 50,
   "id": "f4cd4b18",
   "metadata": {},
   "outputs": [
    {
     "data": {
      "text/plain": [
       "Home apartment /room    103\n",
       "Name: where, dtype: int64"
      ]
     },
     "execution_count": 50,
     "metadata": {},
     "output_type": "execute_result"
    }
   ],
   "source": [
    "df.loc[df['what'] == 'Social media']['where'].value_counts()"
   ]
  },
  {
   "cell_type": "code",
   "execution_count": 51,
   "id": "5725cb68",
   "metadata": {},
   "outputs": [
    {
     "data": {
      "text/plain": [
       "Home apartment /room    21\n",
       "Café, pub, bar          17\n",
       "In the street            2\n",
       "Name: where, dtype: int64"
      ]
     },
     "execution_count": 51,
     "metadata": {},
     "output_type": "execute_result"
    }
   ],
   "source": [
    "df.loc[df['what'] == 'Social life']['where'].value_counts()"
   ]
  },
  {
   "cell_type": "code",
   "execution_count": 21,
   "id": "12278680",
   "metadata": {},
   "outputs": [
    {
     "data": {
      "text/html": [
       "<div>\n",
       "<style scoped>\n",
       "    .dataframe tbody tr th:only-of-type {\n",
       "        vertical-align: middle;\n",
       "    }\n",
       "\n",
       "    .dataframe tbody tr th {\n",
       "        vertical-align: top;\n",
       "    }\n",
       "\n",
       "    .dataframe thead th {\n",
       "        text-align: right;\n",
       "    }\n",
       "</style>\n",
       "<table border=\"1\" class=\"dataframe\">\n",
       "  <thead>\n",
       "    <tr style=\"text-align: right;\">\n",
       "      <th></th>\n",
       "      <th>timestamp</th>\n",
       "      <th>time</th>\n",
       "      <th>weekday</th>\n",
       "      <th>what</th>\n",
       "      <th>where</th>\n",
       "      <th>with_whom</th>\n",
       "      <th>mood</th>\n",
       "      <th>Unnamed: 0</th>\n",
       "      <th>applicationname</th>\n",
       "    </tr>\n",
       "  </thead>\n",
       "  <tbody>\n",
       "    <tr>\n",
       "      <th>0</th>\n",
       "      <td>2022-10-25 13:30:00</td>\n",
       "      <td>13:30:00</td>\n",
       "      <td>Tuesday</td>\n",
       "      <td>Personal care</td>\n",
       "      <td>Home apartment /room</td>\n",
       "      <td>Alone</td>\n",
       "      <td>😁</td>\n",
       "      <td>83932</td>\n",
       "      <td>YouTube</td>\n",
       "    </tr>\n",
       "    <tr>\n",
       "      <th>1</th>\n",
       "      <td>2022-10-25 13:30:00</td>\n",
       "      <td>13:30:00</td>\n",
       "      <td>Tuesday</td>\n",
       "      <td>Personal care</td>\n",
       "      <td>Home apartment /room</td>\n",
       "      <td>Alone</td>\n",
       "      <td>😁</td>\n",
       "      <td>83933</td>\n",
       "      <td>YouTube</td>\n",
       "    </tr>\n",
       "    <tr>\n",
       "      <th>2</th>\n",
       "      <td>2022-10-25 13:30:00</td>\n",
       "      <td>13:30:00</td>\n",
       "      <td>Tuesday</td>\n",
       "      <td>Personal care</td>\n",
       "      <td>Home apartment /room</td>\n",
       "      <td>Alone</td>\n",
       "      <td>😁</td>\n",
       "      <td>83934</td>\n",
       "      <td>YouTube</td>\n",
       "    </tr>\n",
       "    <tr>\n",
       "      <th>3</th>\n",
       "      <td>2022-10-25 13:30:00</td>\n",
       "      <td>13:30:00</td>\n",
       "      <td>Tuesday</td>\n",
       "      <td>Personal care</td>\n",
       "      <td>Home apartment /room</td>\n",
       "      <td>Alone</td>\n",
       "      <td>😁</td>\n",
       "      <td>83935</td>\n",
       "      <td>YouTube</td>\n",
       "    </tr>\n",
       "    <tr>\n",
       "      <th>4</th>\n",
       "      <td>2022-10-25 13:30:00</td>\n",
       "      <td>13:30:00</td>\n",
       "      <td>Tuesday</td>\n",
       "      <td>Personal care</td>\n",
       "      <td>Home apartment /room</td>\n",
       "      <td>Alone</td>\n",
       "      <td>😁</td>\n",
       "      <td>83936</td>\n",
       "      <td>YouTube</td>\n",
       "    </tr>\n",
       "    <tr>\n",
       "      <th>...</th>\n",
       "      <td>...</td>\n",
       "      <td>...</td>\n",
       "      <td>...</td>\n",
       "      <td>...</td>\n",
       "      <td>...</td>\n",
       "      <td>...</td>\n",
       "      <td>...</td>\n",
       "      <td>...</td>\n",
       "      <td>...</td>\n",
       "    </tr>\n",
       "    <tr>\n",
       "      <th>5823</th>\n",
       "      <td>2022-10-10 09:30:00</td>\n",
       "      <td>09:30:00</td>\n",
       "      <td>Monday</td>\n",
       "      <td>Commuting</td>\n",
       "      <td>Study</td>\n",
       "      <td>By train</td>\n",
       "      <td>NaN</td>\n",
       "      <td>134146</td>\n",
       "      <td>Music</td>\n",
       "    </tr>\n",
       "    <tr>\n",
       "      <th>5824</th>\n",
       "      <td>2022-10-10 09:30:00</td>\n",
       "      <td>09:30:00</td>\n",
       "      <td>Monday</td>\n",
       "      <td>Commuting</td>\n",
       "      <td>Study</td>\n",
       "      <td>By train</td>\n",
       "      <td>NaN</td>\n",
       "      <td>134147</td>\n",
       "      <td>Music</td>\n",
       "    </tr>\n",
       "    <tr>\n",
       "      <th>5825</th>\n",
       "      <td>2022-10-10 09:30:00</td>\n",
       "      <td>09:30:00</td>\n",
       "      <td>Monday</td>\n",
       "      <td>Commuting</td>\n",
       "      <td>Study</td>\n",
       "      <td>By train</td>\n",
       "      <td>NaN</td>\n",
       "      <td>134148</td>\n",
       "      <td>Music</td>\n",
       "    </tr>\n",
       "    <tr>\n",
       "      <th>5826</th>\n",
       "      <td>2022-10-10 09:30:00</td>\n",
       "      <td>09:30:00</td>\n",
       "      <td>Monday</td>\n",
       "      <td>Commuting</td>\n",
       "      <td>Study</td>\n",
       "      <td>By train</td>\n",
       "      <td>NaN</td>\n",
       "      <td>134149</td>\n",
       "      <td>Music</td>\n",
       "    </tr>\n",
       "    <tr>\n",
       "      <th>5827</th>\n",
       "      <td>2022-10-10 09:30:00</td>\n",
       "      <td>09:30:00</td>\n",
       "      <td>Monday</td>\n",
       "      <td>Commuting</td>\n",
       "      <td>Study</td>\n",
       "      <td>By train</td>\n",
       "      <td>NaN</td>\n",
       "      <td>134150</td>\n",
       "      <td>Music</td>\n",
       "    </tr>\n",
       "  </tbody>\n",
       "</table>\n",
       "<p>5828 rows × 9 columns</p>\n",
       "</div>"
      ],
      "text/plain": [
       "                timestamp      time  weekday           what  \\\n",
       "0     2022-10-25 13:30:00  13:30:00  Tuesday  Personal care   \n",
       "1     2022-10-25 13:30:00  13:30:00  Tuesday  Personal care   \n",
       "2     2022-10-25 13:30:00  13:30:00  Tuesday  Personal care   \n",
       "3     2022-10-25 13:30:00  13:30:00  Tuesday  Personal care   \n",
       "4     2022-10-25 13:30:00  13:30:00  Tuesday  Personal care   \n",
       "...                   ...       ...      ...            ...   \n",
       "5823  2022-10-10 09:30:00  09:30:00   Monday      Commuting   \n",
       "5824  2022-10-10 09:30:00  09:30:00   Monday      Commuting   \n",
       "5825  2022-10-10 09:30:00  09:30:00   Monday      Commuting   \n",
       "5826  2022-10-10 09:30:00  09:30:00   Monday      Commuting   \n",
       "5827  2022-10-10 09:30:00  09:30:00   Monday      Commuting   \n",
       "\n",
       "                     where with_whom mood  Unnamed: 0 applicationname  \n",
       "0     Home apartment /room     Alone    😁       83932         YouTube  \n",
       "1     Home apartment /room     Alone    😁       83933         YouTube  \n",
       "2     Home apartment /room     Alone    😁       83934         YouTube  \n",
       "3     Home apartment /room     Alone    😁       83935         YouTube  \n",
       "4     Home apartment /room     Alone    😁       83936         YouTube  \n",
       "...                    ...       ...  ...         ...             ...  \n",
       "5823                 Study  By train  NaN      134146           Music  \n",
       "5824                 Study  By train  NaN      134147           Music  \n",
       "5825                 Study  By train  NaN      134148           Music  \n",
       "5826                 Study  By train  NaN      134149           Music  \n",
       "5827                 Study  By train  NaN      134150           Music  \n",
       "\n",
       "[5828 rows x 9 columns]"
      ]
     },
     "execution_count": 21,
     "metadata": {},
     "output_type": "execute_result"
    }
   ],
   "source": [
    "df_1 = pd.read_csv('app_new-Copy1.csv')\n",
    "df.rename(columns = {'datetime': 'timestamp'}, inplace = True)\n",
    "df_1 = df_1[df_1.applicationname != 'Samsung One UI Home'] #remove system application\n",
    "df_1 = df_1[df_1.applicationname != 'Android']#remove system apps\n",
    "df_1 = df_1[df_1.applicationname != 'Android User Interface']\n",
    "#df_1 = df_1[df_1.applicationname.notnull()] #remove nan when I was sleeping and didn't use anything\n",
    "app_diary = pd.merge(df, df_1, on = 'timestamp')\n",
    "app_diary = app_diary.drop_duplicates(keep = 'last')\n",
    "app_diary"
   ]
  },
  {
   "cell_type": "code",
   "execution_count": 22,
   "id": "25f5a234",
   "metadata": {},
   "outputs": [
    {
     "data": {
      "text/plain": [
       "<AxesSubplot:>"
      ]
     },
     "execution_count": 22,
     "metadata": {},
     "output_type": "execute_result"
    },
    {
     "data": {
      "image/png": "[encoded data removed]",
      "text/plain": [
       "<Figure size 432x288 with 1 Axes>"
      ]
     },
     "metadata": {
      "needs_background": "light"
     },
     "output_type": "display_data"
    }
   ],
   "source": [
    "app_diary.loc[app_diary['what'] == 'Sleeping']['applicationname'].value_counts().plot(kind='bar')"
   ]
  },
  {
   "cell_type": "code",
   "execution_count": 23,
   "id": "7d4f467b",
   "metadata": {},
   "outputs": [
    {
     "data": {
      "text/plain": [
       "<AxesSubplot:>"
      ]
     },
     "execution_count": 23,
     "metadata": {},
     "output_type": "execute_result"
    },
    {
     "data": {
      "image/png": "[encoded data removed]",
      "text/plain": [
       "<Figure size 432x288 with 1 Axes>"
      ]
     },
     "metadata": {
      "needs_background": "light"
     },
     "output_type": "display_data"
    }
   ],
   "source": [
    "app_diary.loc[app_diary['what'] == 'Commuting']['applicationname'].value_counts().plot(kind='bar')"
   ]
  },
  {
   "cell_type": "code",
   "execution_count": 24,
   "id": "9383d9c6",
   "metadata": {},
   "outputs": [
    {
     "data": {
      "text/plain": [
       "<AxesSubplot:>"
      ]
     },
     "execution_count": 24,
     "metadata": {},
     "output_type": "execute_result"
    },
    {
     "data": {
      "image/png": "[encoded data removed]",
      "text/plain": [
       "<Figure size 432x288 with 1 Axes>"
      ]
     },
     "metadata": {
      "needs_background": "light"
     },
     "output_type": "display_data"
    }
   ],
   "source": [
    "app_diary.loc[app_diary['what'] == 'Social media']['applicationname'].value_counts().plot(kind='bar')"
   ]
  },
  {
   "cell_type": "code",
   "execution_count": 25,
   "id": "6b532c6f",
   "metadata": {},
   "outputs": [
    {
     "data": {
      "text/plain": [
       "<AxesSubplot:>"
      ]
     },
     "execution_count": 25,
     "metadata": {},
     "output_type": "execute_result"
    },
    {
     "data": {
      "image/png": "[encoded data removed]",
      "text/plain": [
       "<Figure size 432x288 with 1 Axes>"
      ]
     },
     "metadata": {
      "needs_background": "light"
     },
     "output_type": "display_data"
    }
   ],
   "source": [
    "app_diary.loc[app_diary['what'] == 'Personal care']['applicationname'].value_counts().plot(kind='bar')"
   ]
  },
  {
   "cell_type": "code",
   "execution_count": 26,
   "id": "2a52f893",
   "metadata": {},
   "outputs": [
    {
     "data": {
      "text/plain": [
       "<AxesSubplot:>"
      ]
     },
     "execution_count": 26,
     "metadata": {},
     "output_type": "execute_result"
    },
    {
     "data": {
      "image/png": "[encoded data removed]",
      "text/plain": [
       "<Figure size 432x288 with 1 Axes>"
      ]
     },
     "metadata": {
      "needs_background": "light"
     },
     "output_type": "display_data"
    }
   ],
   "source": [
    "app_diary.loc[app_diary['what'] == 'Study']['applicationname'].value_counts().plot(kind='bar')"
   ]
  },
  {
   "cell_type": "code",
   "execution_count": 27,
   "id": "736b7681",
   "metadata": {},
   "outputs": [
    {
     "data": {
      "text/plain": [
       "<AxesSubplot:>"
      ]
     },
     "execution_count": 27,
     "metadata": {},
     "output_type": "execute_result"
    },
    {
     "data": {
      "image/png": "[encoded data removed]",
      "text/plain": [
       "<Figure size 432x288 with 1 Axes>"
      ]
     },
     "metadata": {
      "needs_background": "light"
     },
     "output_type": "display_data"
    }
   ],
   "source": [
    "app_diary.loc[app_diary['what'] == 'Chores']['applicationname'].value_counts().plot(kind='bar')"
   ]
  },
  {
   "cell_type": "code",
   "execution_count": 28,
   "id": "4c5a6f70",
   "metadata": {},
   "outputs": [
    {
     "data": {
      "text/plain": [
       "<AxesSubplot:>"
      ]
     },
     "execution_count": 28,
     "metadata": {},
     "output_type": "execute_result"
    },
    {
     "data": {
      "image/png": "[encoded data removed]",
      "text/plain": [
       "<Figure size 432x288 with 1 Axes>"
      ]
     },
     "metadata": {
      "needs_background": "light"
     },
     "output_type": "display_data"
    }
   ],
   "source": [
    "app_diary.loc[app_diary['what'] == 'Rest']['applicationname'].value_counts().plot(kind='bar')"
   ]
  },
  {
   "cell_type": "code",
   "execution_count": 29,
   "id": "068992f7",
   "metadata": {},
   "outputs": [
    {
     "data": {
      "text/plain": [
       "<AxesSubplot:>"
      ]
     },
     "execution_count": 29,
     "metadata": {},
     "output_type": "execute_result"
    },
    {
     "data": {
      "image/png": "[encoded data removed]",
      "text/plain": [
       "<Figure size 432x288 with 1 Axes>"
      ]
     },
     "metadata": {
      "needs_background": "light"
     },
     "output_type": "display_data"
    }
   ],
   "source": [
    "app_diary.loc[app_diary['what'] == 'Social life']['applicationname'].value_counts().plot(kind='bar')"
   ]
  },
  {
   "cell_type": "code",
   "execution_count": 30,
   "id": "0cf4a238",
   "metadata": {},
   "outputs": [
    {
     "data": {
      "text/plain": [
       "<AxesSubplot:>"
      ]
     },
     "execution_count": 30,
     "metadata": {},
     "output_type": "execute_result"
    },
    {
     "data": {
      "image/png": "[encoded data removed]",
      "text/plain": [
       "<Figure size 432x288 with 1 Axes>"
      ]
     },
     "metadata": {
      "needs_background": "light"
     },
     "output_type": "display_data"
    }
   ],
   "source": [
    "app_diary.loc[app_diary['what'] == 'Phone time']['applicationname'].value_counts().plot(kind='bar')"
   ]
  }
 ],
 "metadata": {
  "kernelspec": {
   "display_name": "Python 3 (ipykernel)",
   "language": "python",
   "name": "python3"
  },
  "language_info": {
   "codemirror_mode": {
    "name": "ipython",
    "version": 3
   },
   "file_extension": ".py",
   "mimetype": "text/x-python",
   "name": "python",
   "nbconvert_exporter": "python",
   "pygments_lexer": "ipython3",
   "version": "3.10.4"
  }
 },
 "nbformat": 4,
 "nbformat_minor": 5
}
